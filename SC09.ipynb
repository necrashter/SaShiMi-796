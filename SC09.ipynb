{
 "cells": [
  {
   "cell_type": "markdown",
   "id": "761cdbea",
   "metadata": {},
   "source": [
    "<center><h1>Experiments on SC09 Dataset</h1></center>"
   ]
  },
  {
   "cell_type": "code",
   "execution_count": 1,
   "id": "132b48c2",
   "metadata": {},
   "outputs": [],
   "source": [
    "%matplotlib inline\n",
    "# Built-in IPython extension to reload modules when updated.\n",
    "%load_ext autoreload\n",
    "%autoreload 2"
   ]
  },
  {
   "cell_type": "code",
   "execution_count": 2,
   "id": "c1eee2fe",
   "metadata": {},
   "outputs": [
    {
     "name": "stdout",
     "output_type": "stream",
     "text": [
      "Using PyKeOps Cauchy kernel.\n"
     ]
    }
   ],
   "source": [
    "import torch\n",
    "from torch import nn\n",
    "import matplotlib.pyplot as plt\n",
    "from torch.utils.data import DataLoader\n",
    "from torchvision import datasets, transforms\n",
    "from tqdm.auto import tqdm\n",
    "import copy\n",
    "import IPython.display as ipd\n",
    "from torchaudio.functional import mu_law_encoding, mu_law_decoding\n",
    "from scipy.io import wavfile\n",
    "import os\n",
    "\n",
    "# Custom modules\n",
    "from sashimi import *\n",
    "from wav_dataset import *"
   ]
  },
  {
   "cell_type": "code",
   "execution_count": 3,
   "id": "cd3b4d5c",
   "metadata": {},
   "outputs": [
    {
     "data": {
      "text/plain": [
       "device(type='cuda')"
      ]
     },
     "execution_count": 3,
     "metadata": {},
     "output_type": "execute_result"
    }
   ],
   "source": [
    "device = torch.device(\"cuda\" if torch.cuda.is_available() else \"cpu\")\n",
    "#device = torch.device(\"cpu\")\n",
    "device"
   ]
  },
  {
   "cell_type": "markdown",
   "id": "1f8ada8d",
   "metadata": {},
   "source": [
    "# Loading the Pre-Trained Model\n",
    "\n",
    "We trained the model using `train_sc09.py` script. The following function will load the model and plot the losses."
   ]
  },
  {
   "cell_type": "code",
   "execution_count": 4,
   "id": "1f2c6fea",
   "metadata": {},
   "outputs": [],
   "source": [
    "def load_model(model, name, _epoch=None):\n",
    "    global epoch, device, model_name, model_folder\n",
    "    model_name = name\n",
    "    model_folder = \"./models/\" + name\n",
    "\n",
    "    with open(os.path.join(model_folder, \"train_loss.txt\"), 'r') as f:\n",
    "        train = [float(i.strip()) for i in f.readlines()]\n",
    "\n",
    "    with open(os.path.join(model_folder, \"validation_loss.txt\"), 'r') as f:\n",
    "        valid = [float(i.strip()) for i in f.readlines()]\n",
    "\n",
    "    plt.title(label=\"Training Loss\")\n",
    "    plt.xlabel(\"Epoch\")\n",
    "    plt.ylabel(\"Loss\")\n",
    "    plt.plot(train)\n",
    "    plt.plot(valid)\n",
    "\n",
    "    epoch = len(train) if _epoch is None else _epoch\n",
    "    checkpoint_filename = os.path.join(model_folder, f\"epoch{epoch:04d}.pt\")\n",
    "    print(\"Loading model:\", checkpoint_filename)\n",
    "    checkpoint = torch.load(checkpoint_filename, map_location=device)\n",
    "\n",
    "    return model.load_state_dict(checkpoint[\"model_state\"])"
   ]
  },
  {
   "cell_type": "markdown",
   "id": "22fd51ba",
   "metadata": {},
   "source": [
    "## NLL Test\n",
    "\n",
    "We want to compute negative log likelihood (NLL) values on the test dataset.\n",
    "\n",
    "Note that [CrossEntropyLoss](https://pytorch.org/docs/stable/generated/torch.nn.CrossEntropyLoss.html) simply calculates the NLL by applying softmax internally:\n",
    "\n",
    "$$\n",
    "l_n = - \\log \\frac{\\exp(x_{n,y_n})}{\\sum_{c=1}^C \\exp(x_{n,c})}\n",
    "$$\n",
    "\n",
    "PyTorch uses natural log by default. We convert this to NLL in bits by dividing the result by $\\log(2)$. "
   ]
  },
  {
   "cell_type": "code",
   "execution_count": 5,
   "id": "49dcbefb",
   "metadata": {},
   "outputs": [
    {
     "name": "stdout",
     "output_type": "stream",
     "text": [
      "WAV files in directory: 4107\n",
      "318 WAV file(s) were discarded because they were not 1 second long.\n"
     ]
    },
    {
     "data": {
      "text/plain": [
       "3789"
      ]
     },
     "execution_count": 5,
     "metadata": {},
     "output_type": "execute_result"
    }
   ],
   "source": [
    "test_dataset = SC09(\"./datasets/sc09/test\", device=device)\n",
    "test_dataloader = DataLoader(test_dataset, batch_size=1, shuffle=False)\n",
    "\n",
    "def test_nll(model):\n",
    "    model.eval()\n",
    "    criterion = torch.nn.CrossEntropyLoss()\n",
    "    with torch.no_grad():\n",
    "        nll = 0.0\n",
    "        for x, y in tqdm(test_dataloader, leave=False):\n",
    "            y_hat = model(x)\n",
    "            nll += criterion(y_hat.view(-1, 256), y.view(-1))\n",
    "        nll /= len(test_dataloader)\n",
    "\n",
    "        print(\"Average NLL:\", nll.item())\n",
    "        print(\"Average NLL in base 2:\", (nll / torch.tensor(2.0).log()).item())\n",
    "        print(\"Average NLL converted to probability:\", (-nll).exp().item())\n",
    "\n",
    "len(test_dataset)"
   ]
  },
  {
   "cell_type": "markdown",
   "id": "cec145e8",
   "metadata": {},
   "source": [
    "# 8-Layer SaShiMi with GLU\n",
    "\n",
    "Let's load the pre-trained model. Note that you should have downloaded this model using `download_data.sh`.\n",
    "Note that there are other pre-trained models in `models` folder."
   ]
  },
  {
   "cell_type": "code",
   "execution_count": 6,
   "id": "6f097519",
   "metadata": {},
   "outputs": [
    {
     "name": "stdout",
     "output_type": "stream",
     "text": [
      "Total parameters: 6377880\n",
      "Parameters to be learned: 6377880\n"
     ]
    }
   ],
   "source": [
    "model = SaShiMi(\n",
    "    input_dim=1,\n",
    "    hidden_dim=64,\n",
    "    output_dim=256,\n",
    "    state_dim=64,\n",
    "    sequence_length=16000,\n",
    "    block_count=8,\n",
    "    block_class=S4BlockGLU,\n",
    "    encoder=Embedding(256, 64),\n",
    ").to(device)\n",
    "\n",
    "print(\"Total parameters:\", sum([i.nelement() for i in model.parameters()]))\n",
    "print(\"Parameters to be learned:\", sum([i.nelement() if i.requires_grad else 0 for i in model.parameters()]))"
   ]
  },
  {
   "cell_type": "code",
   "execution_count": 7,
   "id": "ee7778e4",
   "metadata": {},
   "outputs": [
    {
     "name": "stdout",
     "output_type": "stream",
     "text": [
      "Loading model: ../models/sc09/epoch0040.pt\n"
     ]
    },
    {
     "data": {
      "text/plain": [
       "<All keys matched successfully>"
      ]
     },
     "execution_count": 7,
     "metadata": {},
     "output_type": "execute_result"
    },
    {
     "data": {
      "image/png": "[encoded data removed]",
      "text/plain": [
       "<Figure size 640x480 with 1 Axes>"
      ]
     },
     "metadata": {},
     "output_type": "display_data"
    }
   ],
   "source": [
    "load_model(model, \"sc09\")"
   ]
  },
  {
   "cell_type": "code",
   "execution_count": 8,
   "id": "01f93518",
   "metadata": {},
   "outputs": [
    {
     "data": {
      "application/vnd.jupyter.widget-view+json": {
       "model_id": "",
       "version_major": 2,
       "version_minor": 0
      },
      "text/plain": [
       "  0%|          | 0/3789 [00:00<?, ?it/s]"
      ]
     },
     "metadata": {},
     "output_type": "display_data"
    },
    {
     "name": "stdout",
     "output_type": "stream",
     "text": [
      "Average NLL: 1.9091062545776367\n",
      "Average NLL in base 2: 2.754258155822754\n",
      "Average NLL converted to probability: 0.14821279048919678\n"
     ]
    }
   ],
   "source": [
    "test_nll(model)"
   ]
  },
  {
   "cell_type": "markdown",
   "id": "d00f604a",
   "metadata": {},
   "source": [
    "# Sampling\n",
    "\n",
    "After loading a model, you can use the following code block to generate 32 samples at once and save them."
   ]
  },
  {
   "cell_type": "code",
   "execution_count": 9,
   "id": "95266665",
   "metadata": {},
   "outputs": [
    {
     "data": {
      "application/vnd.jupyter.widget-view+json": {
       "model_id": "",
       "version_major": 2,
       "version_minor": 0
      },
      "text/plain": [
       "  0%|          | 0/16000 [00:00<?, ?it/s]"
      ]
     },
     "metadata": {},
     "output_type": "display_data"
    }
   ],
   "source": [
    "seed = 42\n",
    "torch.manual_seed(seed)\n",
    "model.eval()\n",
    "with torch.no_grad():\n",
    "    gen = generate_audio_sample(model, 16000, batch_size=32)\n",
    "    gen = mu_law_decoding(gen, 256).cpu()\n",
    "\n",
    "dirname = \"outputs/\" + model_name\n",
    "if not os.path.exists(dirname):\n",
    "    os.makedirs(dirname)\n",
    "\n",
    "for i, g in enumerate(gen):\n",
    "    wavfile.write(f\"{dirname}/epoch{epoch:04d}-seed{seed}-{i}.wav\", 16000, g.numpy())"
   ]
  },
  {
   "cell_type": "markdown",
   "id": "dda233b7",
   "metadata": {},
   "source": [
    "Let's listen to the generated samples."
   ]
  },
  {
   "cell_type": "code",
   "execution_count": 10,
   "id": "e12e7160",
   "metadata": {},
   "outputs": [],
   "source": [
    "selected_index = 0"
   ]
  },
  {
   "cell_type": "code",
   "execution_count": null,
   "id": "68bb4182",
   "metadata": {},
   "outputs": [],
   "source": [
    "selected = gen[selected_index]\n",
    "print(\"Sample\", selected_index)\n",
    "selected_index = (selected_index + 1) % gen.size(dim=0)\n",
    "plt.figure()\n",
    "plt.plot(selected)\n",
    "ipd.Audio(selected.numpy(), rate=16000)"
   ]
  },
  {
   "cell_type": "markdown",
   "id": "6c1a5f0d",
   "metadata": {},
   "source": [
    "You can run the previous block repeatedly to switch to the next sample."
   ]
  }
 ],
 "metadata": {
  "kernelspec": {
   "display_name": "Python 3 (ipykernel)",
   "language": "python",
   "name": "python3"
  },
  "language_info": {
   "codemirror_mode": {
    "name": "ipython",
    "version": 3
   },
   "file_extension": ".py",
   "mimetype": "text/x-python",
   "name": "python",
   "nbconvert_exporter": "python",
   "pygments_lexer": "ipython3",
   "version": "3.10.9"
  }
 },
 "nbformat": 4,
 "nbformat_minor": 5
}
