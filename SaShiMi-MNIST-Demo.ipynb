{
 "cells": [
  {
   "cell_type": "markdown",
   "id": "be9c5d7a",
   "metadata": {},
   "source": [
    "<center><h1>SaShiMi Demo on MNIST</h1></center>\n",
    "\n",
    "This notebook is intended to test whether our SaShiMi implementation works correctly by running it on MNIST. SaShiMi introduces new layers for down-pooling and up-pooling, which require special handling in recurrent mode.\n",
    "\n",
    "There are unit tests available in this repository. Run all unit tests by executing the following command in the root directory:\n",
    "```bash\n",
    "python3 -m unittest\n",
    "```\n",
    "\n",
    "For a more preliminary introduction to S4, see [S4-MNIST-Demo](https://github.com/necrashter/SaShiMi-796/blob/master/S4-MNIST-Demo.ipynb)."
   ]
  },
  {
   "cell_type": "markdown",
   "id": "ec6e85f1",
   "metadata": {},
   "source": [
    "# Prelude\n",
    "\n",
    "Setup, import modules, select device, etc."
   ]
  },
  {
   "cell_type": "code",
   "execution_count": 1,
   "id": "132b48c2",
   "metadata": {},
   "outputs": [],
   "source": [
    "%matplotlib inline\n",
    "# Built-in IPython extension to reload modules when updated.\n",
    "%load_ext autoreload\n",
    "%autoreload 2"
   ]
  },
  {
   "cell_type": "code",
   "execution_count": 2,
   "id": "c1eee2fe",
   "metadata": {},
   "outputs": [
    {
     "name": "stdout",
     "output_type": "stream",
     "text": [
      "Using PyKeOps Cauchy kernel.\n"
     ]
    }
   ],
   "source": [
    "import torch\n",
    "from torch import nn\n",
    "import matplotlib.pyplot as plt\n",
    "from torch.utils.data import DataLoader\n",
    "from torchvision import datasets, transforms\n",
    "from tqdm.auto import tqdm\n",
    "import copy\n",
    "import IPython.display as ipd\n",
    "\n",
    "# Custom modules\n",
    "from S4 import *\n",
    "from sashimi import *"
   ]
  },
  {
   "cell_type": "code",
   "execution_count": 3,
   "id": "cd3b4d5c",
   "metadata": {},
   "outputs": [
    {
     "data": {
      "text/plain": [
       "device(type='cuda')"
      ]
     },
     "execution_count": 3,
     "metadata": {},
     "output_type": "execute_result"
    }
   ],
   "source": [
    "device = torch.device(\"cuda\" if torch.cuda.is_available() else \"cpu\")\n",
    "#device = torch.device(\"cpu\")\n",
    "device"
   ]
  },
  {
   "cell_type": "markdown",
   "id": "f56c5212",
   "metadata": {},
   "source": [
    "# Dataset"
   ]
  },
  {
   "cell_type": "code",
   "execution_count": 4,
   "id": "2f898191",
   "metadata": {},
   "outputs": [],
   "source": [
    "# Load datasets\n",
    "MNIST_TRAIN = datasets.MNIST(root='./datasets', train=True, download=True, transform=transforms.ToTensor())\n",
    "MNIST_TEST = datasets.MNIST(root='./datasets', train=False, download=True, transform=transforms.ToTensor())\n",
    "\n",
    "dataloader = DataLoader(MNIST_TRAIN, shuffle=True, batch_size=8)\n",
    "testloader = DataLoader(MNIST_TEST, shuffle=False, batch_size=1)"
   ]
  },
  {
   "cell_type": "markdown",
   "id": "a3d13cbd",
   "metadata": {},
   "source": [
    "# Model\n",
    "\n",
    "Here we define the model. We won't go into the implementation details in this notebook. See the documentation and comments in the code."
   ]
  },
  {
   "cell_type": "code",
   "execution_count": 5,
   "id": "7c2c24c8",
   "metadata": {},
   "outputs": [],
   "source": [
    "torch.manual_seed(42)\n",
    "\n",
    "model = SaShiMi(\n",
    "    input_dim=1,\n",
    "    hidden_dim=64,\n",
    "    output_dim=256,\n",
    "    state_dim=64,\n",
    "    sequence_length=784,\n",
    "    block_count=2,\n",
    ").to(device)"
   ]
  },
  {
   "cell_type": "markdown",
   "id": "52b170ff",
   "metadata": {},
   "source": [
    "# Overfitting Test\n",
    "\n",
    "In accordance with the well-respected 796 tradition, we first test whether the model works by trying to overfit into a single example."
   ]
  },
  {
   "cell_type": "code",
   "execution_count": 6,
   "id": "6226d367",
   "metadata": {},
   "outputs": [
    {
     "data": {
      "text/plain": [
       "<matplotlib.image.AxesImage at 0x7fadd3f59d80>"
      ]
     },
     "execution_count": 6,
     "metadata": {},
     "output_type": "execute_result"
    },
    {
     "data": {
      "image/png": "[encoded data removed]",
      "text/plain": [
       "<Figure size 200x200 with 1 Axes>"
      ]
     },
     "metadata": {},
     "output_type": "display_data"
    }
   ],
   "source": [
    "overfit_image = MNIST_TEST[0][0]\n",
    "plt.figure(figsize=(2,2))\n",
    "plt.imshow(overfit_image.reshape(28, 28, 1))"
   ]
  },
  {
   "cell_type": "code",
   "execution_count": 7,
   "id": "5bdd8e76",
   "metadata": {},
   "outputs": [],
   "source": [
    "optimizer = torch.optim.Adam(model.parameters(), lr=0.001)\n",
    "criterion = torch.nn.CrossEntropyLoss()\n",
    "losses = []"
   ]
  },
  {
   "cell_type": "markdown",
   "id": "d21a9bf4",
   "metadata": {},
   "source": [
    "You can run the following block multiple times to train the same model without restarting:"
   ]
  },
  {
   "cell_type": "code",
   "execution_count": 8,
   "id": "6e353cfc",
   "metadata": {
    "scrolled": false
   },
   "outputs": [
    {
     "data": {
      "application/vnd.jupyter.widget-view+json": {
       "model_id": "",
       "version_major": 2,
       "version_minor": 0
      },
      "text/plain": [
       "  0%|          | 0/200 [00:00<?, ?it/s]"
      ]
     },
     "metadata": {},
     "output_type": "display_data"
    },
    {
     "data": {
      "image/png": "[encoded data removed]",
      "text/plain": [
       "<Figure size 640x480 with 1 Axes>"
      ]
     },
     "metadata": {},
     "output_type": "display_data"
    }
   ],
   "source": [
    "model.train()\n",
    "for epoch in tqdm(range(200), leave=False):\n",
    "    train_loss = 0.0\n",
    "    for img in [overfit_image]:\n",
    "        # Convert image to a signal with L = 784 and dimension 1\n",
    "        img = img.to(device).reshape(-1, 784, 1)\n",
    "        # Shift and pad with zero to generate input\n",
    "        x = torch.cat([torch.zeros(img.size(0), 1, 1, device=device), img[:, :-1, :]], dim=1)\n",
    "        # For each sample i, predict the next sample (i+1) from the slice between 0 to i\n",
    "        y_hat = model(x)\n",
    "        \n",
    "        y = torch.mul(img, 255.0).to(torch.int64).to(device)[:,:,0]\n",
    "        loss = criterion(y_hat.reshape(-1, 256), y.reshape(-1))\n",
    "\n",
    "        loss_val = loss.detach().cpu().item()\n",
    "        train_loss += loss_val\n",
    "        losses.append(loss_val)\n",
    "\n",
    "        optimizer.zero_grad()\n",
    "        loss.backward()\n",
    "        optimizer.step()\n",
    "\n",
    "plt.plot(losses)\n",
    "plt.show()"
   ]
  },
  {
   "cell_type": "markdown",
   "id": "2dd5d145",
   "metadata": {},
   "source": [
    "## Convolutional Sampling\n",
    "\n",
    "This one generates each pixel assuming that all previous pixels are predicted correctly, i.e., sample $i$ is predicted from ground truth values of samples $0$ to $i-1$ instead of generated samples."
   ]
  },
  {
   "cell_type": "code",
   "execution_count": 69,
   "id": "7f21780f",
   "metadata": {},
   "outputs": [],
   "source": [
    "model.eval()\n",
    "with torch.no_grad():\n",
    "    img = overfit_image.to(device).reshape(-1, 784, 1)\n",
    "    x = torch.cat([torch.zeros(img.size(0), 1, 1, device=device), img[:, :-1, :]], dim=1)\n",
    "    y_hat = model(x)\n",
    "    sample = torch.argmax(y_hat, dim=-1)"
   ]
  },
  {
   "cell_type": "code",
   "execution_count": 70,
   "id": "1d1d19f7",
   "metadata": {},
   "outputs": [
    {
     "data": {
      "text/plain": [
       "<matplotlib.image.AxesImage at 0x7fadb4555390>"
      ]
     },
     "execution_count": 70,
     "metadata": {},
     "output_type": "execute_result"
    },
    {
     "data": {
      "image/png": "[encoded data removed]",
      "text/plain": [
       "<Figure size 200x200 with 1 Axes>"
      ]
     },
     "metadata": {},
     "output_type": "display_data"
    }
   ],
   "source": [
    "plt.figure(figsize=(2, 2))\n",
    "plt.imshow(sample.cpu().reshape(28, 28, 1))"
   ]
  },
  {
   "cell_type": "markdown",
   "id": "c0d22e69",
   "metadata": {},
   "source": [
    "## Sampling\n",
    "\n",
    "The following method will autoregressively sample from the given model `m`. It can optionally use a priming signal to start with. When `maxp` is `True`, it will always choose the value with highest probability instead of random sampling."
   ]
  },
  {
   "cell_type": "code",
   "execution_count": 63,
   "id": "71212e9e",
   "metadata": {},
   "outputs": [],
   "source": [
    "def generate_sample(m, priming_signal=None, maxp=False):\n",
    "    f = m.get_recurrent_runner()\n",
    "    # The input is padded with 0 at the start\n",
    "    u = f(torch.zeros(1, 1, device=device))\n",
    "\n",
    "    # Process the priming signal if given\n",
    "    if priming_signal is not None:\n",
    "        for s in priming_signal:\n",
    "            u = f(s.reshape(1, 1))\n",
    "        primed_size = priming_signal.size(0)\n",
    "    else:\n",
    "        primed_size = 0\n",
    "\n",
    "    # Generate the new part\n",
    "    Y = []\n",
    "    for _ in range(784 - primed_size):\n",
    "        if maxp:\n",
    "            p = torch.argmax(u, dim=-1)\n",
    "        else:\n",
    "            dist = torch.distributions.categorical.Categorical(probs=torch.nn.functional.softmax(u, dim=-1))\n",
    "            p = dist.sample()\n",
    "        p = p.reshape(1, 1) / 255.0\n",
    "        Y.append(p)\n",
    "        u = f(p)\n",
    "\n",
    "    generated = torch.cat(Y, dim=1).real.flatten()\n",
    "    # Red: generated part\n",
    "    # Green: given part\n",
    "    if priming_signal is not None:\n",
    "        priming_signal = priming_signal.flatten()\n",
    "        red = torch.cat([torch.zeros_like(priming_signal), generated], dim=0)\n",
    "        green = torch.cat([priming_signal, torch.zeros_like(generated)], dim=0)\n",
    "    else:\n",
    "        red = generated\n",
    "        green = torch.zeros_like(red)\n",
    "    blue = torch.zeros_like(green)\n",
    "    return torch.cat([color.reshape(28, 28, 1) for color in [red, green, blue]], dim=-1)"
   ]
  },
  {
   "cell_type": "code",
   "execution_count": 64,
   "id": "c0d26c56",
   "metadata": {},
   "outputs": [],
   "source": [
    "def overfit_sample(start=0, maxp=False):\n",
    "    model.eval()\n",
    "    with torch.no_grad():\n",
    "        img = overfit_image\n",
    "        img = img.to(device).reshape(-1, 784, 1)\n",
    "        sample = generate_sample(model, img[0, :start, :] if start > 0 else None, maxp).cpu()\n",
    "        plt.figure(figsize=(2,2))\n",
    "        plt.axis('off')\n",
    "        plt.imshow(sample)"
   ]
  },
  {
   "cell_type": "markdown",
   "id": "22c53100",
   "metadata": {},
   "source": [
    "Let's sample some images.\n",
    "\n",
    "<b style=\"color: red;\">Red</b> parts are generated, <b style=\"color: green;\">green</b> parts are given in the priming signal."
   ]
  },
  {
   "cell_type": "code",
   "execution_count": 67,
   "id": "78624d7b",
   "metadata": {},
   "outputs": [
    {
     "data": {
      "image/png": "[encoded data removed]",
      "text/plain": [
       "<Figure size 200x200 with 1 Axes>"
      ]
     },
     "metadata": {},
     "output_type": "display_data"
    },
    {
     "data": {
      "image/png": "[encoded data removed]",
      "text/plain": [
       "<Figure size 200x200 with 1 Axes>"
      ]
     },
     "metadata": {},
     "output_type": "display_data"
    }
   ],
   "source": [
    "torch.manual_seed(42)\n",
    "overfit_sample(28*10)\n",
    "overfit_sample(28*10, maxp=True)"
   ]
  },
  {
   "cell_type": "code",
   "execution_count": 68,
   "id": "8e786f6d",
   "metadata": {
    "scrolled": false
   },
   "outputs": [
    {
     "data": {
      "image/png": "[encoded data removed]",
      "text/plain": [
       "<Figure size 200x200 with 1 Axes>"
      ]
     },
     "metadata": {},
     "output_type": "display_data"
    },
    {
     "data": {
      "image/png": "[encoded data removed]",
      "text/plain": [
       "<Figure size 200x200 with 1 Axes>"
      ]
     },
     "metadata": {},
     "output_type": "display_data"
    }
   ],
   "source": [
    "torch.manual_seed(7)\n",
    "overfit_sample()\n",
    "overfit_sample()"
   ]
  },
  {
   "cell_type": "markdown",
   "id": "4c6c7a1e",
   "metadata": {},
   "source": [
    "# Full Dataset"
   ]
  },
  {
   "cell_type": "code",
   "execution_count": 71,
   "id": "00c9da05",
   "metadata": {},
   "outputs": [],
   "source": [
    "torch.manual_seed(42)\n",
    "\n",
    "model = SaShiMi(\n",
    "    input_dim=1,\n",
    "    hidden_dim=64,\n",
    "    output_dim=256,\n",
    "    state_dim=64,\n",
    "    sequence_length=784,\n",
    "    block_count=2,\n",
    ").to(device)\n",
    "\n",
    "optimizer = torch.optim.Adam(model.parameters(), lr=0.001)\n",
    "criterion = torch.nn.CrossEntropyLoss()\n",
    "losses = []"
   ]
  },
  {
   "cell_type": "markdown",
   "id": "020d9de5",
   "metadata": {},
   "source": [
    "You can run the following block multiple times to train the same model without restarting:"
   ]
  },
  {
   "cell_type": "code",
   "execution_count": 72,
   "id": "38306e52",
   "metadata": {},
   "outputs": [
    {
     "data": {
      "application/vnd.jupyter.widget-view+json": {
       "model_id": "",
       "version_major": 2,
       "version_minor": 0
      },
      "text/plain": [
       "  0%|          | 0/4 [00:00<?, ?it/s]"
      ]
     },
     "metadata": {},
     "output_type": "display_data"
    },
    {
     "data": {
      "application/vnd.jupyter.widget-view+json": {
       "model_id": "",
       "version_major": 2,
       "version_minor": 0
      },
      "text/plain": [
       "  0%|          | 0/7500 [00:00<?, ?it/s]"
      ]
     },
     "metadata": {},
     "output_type": "display_data"
    },
    {
     "name": "stdout",
     "output_type": "stream",
     "text": [
      "Epoch 1 loss: 0.7941518191695197\n"
     ]
    },
    {
     "data": {
      "application/vnd.jupyter.widget-view+json": {
       "model_id": "",
       "version_major": 2,
       "version_minor": 0
      },
      "text/plain": [
       "  0%|          | 0/7500 [00:00<?, ?it/s]"
      ]
     },
     "metadata": {},
     "output_type": "display_data"
    },
    {
     "name": "stdout",
     "output_type": "stream",
     "text": [
      "Epoch 2 loss: 0.7467632965842866\n"
     ]
    },
    {
     "data": {
      "application/vnd.jupyter.widget-view+json": {
       "model_id": "",
       "version_major": 2,
       "version_minor": 0
      },
      "text/plain": [
       "  0%|          | 0/7500 [00:00<?, ?it/s]"
      ]
     },
     "metadata": {},
     "output_type": "display_data"
    },
    {
     "name": "stdout",
     "output_type": "stream",
     "text": [
      "Epoch 3 loss: 0.7763504243016268\n"
     ]
    },
    {
     "data": {
      "application/vnd.jupyter.widget-view+json": {
       "model_id": "",
       "version_major": 2,
       "version_minor": 0
      },
      "text/plain": [
       "  0%|          | 0/7500 [00:00<?, ?it/s]"
      ]
     },
     "metadata": {},
     "output_type": "display_data"
    },
    {
     "name": "stdout",
     "output_type": "stream",
     "text": [
      "Epoch 4 loss: 0.7242769702951095\n"
     ]
    },
    {
     "data": {
      "image/png": "[encoded data removed]",
      "text/plain": [
       "<Figure size 640x480 with 1 Axes>"
      ]
     },
     "metadata": {},
     "output_type": "display_data"
    }
   ],
   "source": [
    "model.train()\n",
    "for epoch in tqdm(range(4), leave=False):\n",
    "    train_loss = 0.0\n",
    "    for img, _ in tqdm(dataloader, leave=False):\n",
    "        # Convert image to a signal with L = 784 and dimension 1\n",
    "        img = img.to(device).reshape(-1, 784, 1)\n",
    "        # Shift and pad with zero to generate input\n",
    "        x = torch.cat([torch.zeros(img.size(0), 1, 1, device=device), img[:, :-1, :]], dim=1)\n",
    "        # For each sample i, predict the next sample (i+1) from the slice between 0 to i\n",
    "        y_hat = model(x)\n",
    "        \n",
    "        y = torch.mul(img, 255.0).to(torch.int64).to(device)[:,:,0]\n",
    "        loss = criterion(y_hat.reshape(-1, 256), y.reshape(-1))\n",
    "\n",
    "        loss_val = loss.detach().cpu().item()\n",
    "        train_loss += loss_val / len(dataloader)\n",
    "\n",
    "        optimizer.zero_grad()\n",
    "        loss.backward()\n",
    "        optimizer.step()\n",
    "\n",
    "    losses.append(train_loss)\n",
    "    print(f\"Epoch {len(losses)} loss: {train_loss}\")\n",
    "\n",
    "plt.plot(losses)\n",
    "plt.show()"
   ]
  },
  {
   "cell_type": "code",
   "execution_count": 73,
   "id": "da0a5b9c",
   "metadata": {},
   "outputs": [],
   "source": [
    "def image_sample(img=None, start=0, maxp=False):\n",
    "    model.eval()\n",
    "    with torch.no_grad():\n",
    "        if img is not None and start > 0:\n",
    "            img = img.to(device).reshape(-1, 784, 1)[0, :start, :]\n",
    "        sample = generate_sample(model, img, maxp).cpu()\n",
    "        plt.figure(figsize=(2,2))\n",
    "        plt.axis('off')\n",
    "        plt.imshow(sample)"
   ]
  },
  {
   "cell_type": "code",
   "execution_count": 74,
   "id": "a2ad4f4c",
   "metadata": {},
   "outputs": [
    {
     "data": {
      "image/png": "[encoded data removed]",
      "text/plain": [
       "<Figure size 200x200 with 1 Axes>"
      ]
     },
     "metadata": {},
     "output_type": "display_data"
    },
    {
     "data": {
      "image/png": "[encoded data removed]",
      "text/plain": [
       "<Figure size 200x200 with 1 Axes>"
      ]
     },
     "metadata": {},
     "output_type": "display_data"
    },
    {
     "data": {
      "image/png": "[encoded data removed]",
      "text/plain": [
       "<Figure size 200x200 with 1 Axes>"
      ]
     },
     "metadata": {},
     "output_type": "display_data"
    }
   ],
   "source": [
    "torch.manual_seed(42)\n",
    "image_sample(MNIST_TEST[1][0], 28*10)\n",
    "image_sample(MNIST_TEST[2][0], 28*10)\n",
    "image_sample(MNIST_TEST[3][0], 28*10)"
   ]
  },
  {
   "cell_type": "code",
   "execution_count": 83,
   "id": "7a9ba373",
   "metadata": {},
   "outputs": [
    {
     "data": {
      "image/png": "[encoded data removed]",
      "text/plain": [
       "<Figure size 200x200 with 1 Axes>"
      ]
     },
     "metadata": {},
     "output_type": "display_data"
    },
    {
     "data": {
      "image/png": "[encoded data removed]",
      "text/plain": [
       "<Figure size 200x200 with 1 Axes>"
      ]
     },
     "metadata": {},
     "output_type": "display_data"
    },
    {
     "data": {
      "image/png": "[encoded data removed]",
      "text/plain": [
       "<Figure size 200x200 with 1 Axes>"
      ]
     },
     "metadata": {},
     "output_type": "display_data"
    }
   ],
   "source": [
    "torch.manual_seed(0)\n",
    "image_sample()\n",
    "image_sample()\n",
    "image_sample()"
   ]
  },
  {
   "cell_type": "code",
   "execution_count": 80,
   "id": "bc314e10",
   "metadata": {},
   "outputs": [
    {
     "data": {
      "image/png": "[encoded data removed]",
      "text/plain": [
       "<Figure size 200x200 with 1 Axes>"
      ]
     },
     "metadata": {},
     "output_type": "display_data"
    },
    {
     "data": {
      "image/png": "[encoded data removed]",
      "text/plain": [
       "<Figure size 200x200 with 1 Axes>"
      ]
     },
     "metadata": {},
     "output_type": "display_data"
    }
   ],
   "source": [
    "image_sample(MNIST_TEST[1][0], 28*10, maxp=True)\n",
    "image_sample(MNIST_TEST[2][0], 28*10, maxp=True)"
   ]
  },
  {
   "cell_type": "markdown",
   "id": "9dcfb4d4",
   "metadata": {},
   "source": [
    "### Saving & Loading the Model"
   ]
  },
  {
   "cell_type": "code",
   "execution_count": 81,
   "id": "cddfe78a",
   "metadata": {},
   "outputs": [],
   "source": [
    "torch.save(model, \"./models/sashimi-mnist.pt\")"
   ]
  },
  {
   "cell_type": "code",
   "execution_count": 82,
   "id": "ef777711",
   "metadata": {},
   "outputs": [],
   "source": [
    "model = torch.load(\"./models/sashimi-mnist.pt\")"
   ]
  },
  {
   "cell_type": "markdown",
   "id": "dcad02b0",
   "metadata": {},
   "source": [
    "# NLL\n",
    "\n",
    "Here, we compute the average negative log likelihood (NLL) value on the test dataset.\n",
    "\n",
    "Note that [CrossEntropyLoss](https://pytorch.org/docs/stable/generated/torch.nn.CrossEntropyLoss.html) simply calculates the NLL by applying softmax internally:\n",
    "\n",
    "$$\n",
    "l_n = - \\log \\frac{\\exp(x_{n,y_n})}{\\sum_{c=1}^C \\exp(x_{n,c})}\n",
    "$$\n",
    "\n",
    "PyTorch uses natural log by default. We convert this to NLL in bits by dividing the result by $\\log(2)$. "
   ]
  },
  {
   "cell_type": "code",
   "execution_count": 84,
   "id": "6833d411",
   "metadata": {},
   "outputs": [
    {
     "data": {
      "application/vnd.jupyter.widget-view+json": {
       "model_id": "",
       "version_major": 2,
       "version_minor": 0
      },
      "text/plain": [
       "  0%|          | 0/10000 [00:00<?, ?it/s]"
      ]
     },
     "metadata": {},
     "output_type": "display_data"
    },
    {
     "name": "stdout",
     "output_type": "stream",
     "text": [
      "Average NLL: 0.7191216349601746\n",
      "Average NLL in base 2: 1.037473201751709\n",
      "Average NLL converted to probability: 0.4871799945831299\n"
     ]
    }
   ],
   "source": [
    "model.eval()\n",
    "criterion = torch.nn.CrossEntropyLoss()\n",
    "with torch.no_grad():\n",
    "    nll = 0.0\n",
    "    for img, _ in tqdm(testloader, leave=False):\n",
    "        # Convert image to a signal with L = 784 and dimension 1\n",
    "        img = img.to(device).reshape(-1, 784, 1)\n",
    "        # Shift and pad with zero to generate input\n",
    "        x = torch.cat([torch.zeros(img.size(0), 1, 1, device=device), img[:, :-1, :]], dim=1)\n",
    "        y = torch.mul(img, 255.0).to(torch.int64).to(device)[:,:,0]\n",
    "        # For each sample i, predict the next sample (i+1) from the slice between 0 to i\n",
    "        y_hat = model(x)\n",
    "        nll += criterion(y_hat.reshape(-1, 256), y.reshape(-1))\n",
    "    nll /= len(MNIST_TEST)\n",
    "\n",
    "    print(\"Average NLL:\", nll.item())\n",
    "    print(\"Average NLL in base 2:\", (nll / torch.tensor(2.0).log()).item())\n",
    "    print(\"Average NLL converted to probability:\", (-nll).exp().item())"
   ]
  },
  {
   "cell_type": "markdown",
   "id": "d7ed4631",
   "metadata": {},
   "source": [
    "The result is worse than `S4-MNIST-Demo`. That's probably because SaShiMi is larger than vanilla S4 and hence requires more training"
   ]
  }
 ],
 "metadata": {
  "kernelspec": {
   "display_name": "Python 3 (ipykernel)",
   "language": "python",
   "name": "python3"
  },
  "language_info": {
   "codemirror_mode": {
    "name": "ipython",
    "version": 3
   },
   "file_extension": ".py",
   "mimetype": "text/x-python",
   "name": "python",
   "nbconvert_exporter": "python",
   "pygments_lexer": "ipython3",
   "version": "3.10.9"
  }
 },
 "nbformat": 4,
 "nbformat_minor": 5
}
