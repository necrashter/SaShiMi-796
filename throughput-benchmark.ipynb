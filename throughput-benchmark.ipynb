{
 "cells": [
  {
   "cell_type": "markdown",
   "id": "32b73e82",
   "metadata": {},
   "source": [
    "# Throughput Benchmark\n",
    "\n",
    "In this notebook, we will investigate how batch size affects the throughput during recurrent autoregressive sampling.\n",
    "\n",
    "In the paper, this is provided as an additional experiment in Appendix B."
   ]
  },
  {
   "cell_type": "markdown",
   "id": "ac1ed65c",
   "metadata": {},
   "source": [
    "## Prelude"
   ]
  },
  {
   "cell_type": "code",
   "execution_count": 1,
   "id": "cbff2a0f",
   "metadata": {},
   "outputs": [],
   "source": [
    "%matplotlib inline"
   ]
  },
  {
   "cell_type": "code",
   "execution_count": 5,
   "id": "30e19e01",
   "metadata": {},
   "outputs": [],
   "source": [
    "import torch\n",
    "from torch import nn\n",
    "import matplotlib.pyplot as plt\n",
    "from torch.utils.data import DataLoader\n",
    "from torchvision import datasets, transforms\n",
    "from tqdm.auto import tqdm\n",
    "import copy\n",
    "import IPython.display as ipd\n",
    "from time import time\n",
    "\n",
    "# Custom modules\n",
    "from sashimi import *"
   ]
  },
  {
   "cell_type": "code",
   "execution_count": 3,
   "id": "a155a9b5",
   "metadata": {},
   "outputs": [
    {
     "data": {
      "text/plain": [
       "device(type='cuda')"
      ]
     },
     "execution_count": 3,
     "metadata": {},
     "output_type": "execute_result"
    }
   ],
   "source": [
    "device = torch.device(\"cuda\" if torch.cuda.is_available() else \"cpu\")\n",
    "#device = torch.device(\"cpu\")\n",
    "device"
   ]
  },
  {
   "cell_type": "markdown",
   "id": "d0d29558",
   "metadata": {},
   "source": [
    "## Model and Benchmark"
   ]
  },
  {
   "cell_type": "code",
   "execution_count": 4,
   "id": "520f8f25",
   "metadata": {},
   "outputs": [],
   "source": [
    "model = SaShiMi(\n",
    "    input_dim=1,\n",
    "    hidden_dim=64,\n",
    "    output_dim=256,\n",
    "    state_dim=64,\n",
    "    sequence_length=16000,\n",
    "    block_count=4,\n",
    "    encoder=Embedding(256, 64),\n",
    ").to(device)"
   ]
  },
  {
   "cell_type": "markdown",
   "id": "a864dfcc",
   "metadata": {},
   "source": [
    "No need to train the model for this experiment; we will only do performance benchmark."
   ]
  },
  {
   "cell_type": "code",
   "execution_count": 8,
   "id": "c5b93531",
   "metadata": {},
   "outputs": [],
   "source": [
    "benchmark_sequence = 2000"
   ]
  },
  {
   "cell_type": "code",
   "execution_count": 9,
   "id": "3f2a3b5a",
   "metadata": {},
   "outputs": [],
   "source": [
    "def measure(model, batch_size):\n",
    "    start = time()\n",
    "    with torch.no_grad():\n",
    "        generate_audio_sample(model, benchmark_sequence, batch_size=batch_size)\n",
    "    end = time()\n",
    "    return end - start"
   ]
  },
  {
   "cell_type": "code",
   "execution_count": 21,
   "id": "d160d01b",
   "metadata": {},
   "outputs": [
    {
     "data": {
      "application/vnd.jupyter.widget-view+json": {
       "model_id": "3264e498cdeb462c9c489f147cf6ae45",
       "version_major": 2,
       "version_minor": 0
      },
      "text/plain": [
       "  0%|          | 0/10 [00:00<?, ?it/s]"
      ]
     },
     "metadata": {},
     "output_type": "display_data"
    },
    {
     "data": {
      "application/vnd.jupyter.widget-view+json": {
       "model_id": "",
       "version_major": 2,
       "version_minor": 0
      },
      "text/plain": [
       "  0%|          | 0/2000 [00:00<?, ?it/s]"
      ]
     },
     "metadata": {},
     "output_type": "display_data"
    },
    {
     "data": {
      "application/vnd.jupyter.widget-view+json": {
       "model_id": "",
       "version_major": 2,
       "version_minor": 0
      },
      "text/plain": [
       "  0%|          | 0/2000 [00:00<?, ?it/s]"
      ]
     },
     "metadata": {},
     "output_type": "display_data"
    },
    {
     "data": {
      "application/vnd.jupyter.widget-view+json": {
       "model_id": "",
       "version_major": 2,
       "version_minor": 0
      },
      "text/plain": [
       "  0%|          | 0/2000 [00:00<?, ?it/s]"
      ]
     },
     "metadata": {},
     "output_type": "display_data"
    },
    {
     "data": {
      "application/vnd.jupyter.widget-view+json": {
       "model_id": "",
       "version_major": 2,
       "version_minor": 0
      },
      "text/plain": [
       "  0%|          | 0/2000 [00:00<?, ?it/s]"
      ]
     },
     "metadata": {},
     "output_type": "display_data"
    },
    {
     "data": {
      "application/vnd.jupyter.widget-view+json": {
       "model_id": "",
       "version_major": 2,
       "version_minor": 0
      },
      "text/plain": [
       "  0%|          | 0/2000 [00:00<?, ?it/s]"
      ]
     },
     "metadata": {},
     "output_type": "display_data"
    },
    {
     "data": {
      "application/vnd.jupyter.widget-view+json": {
       "model_id": "",
       "version_major": 2,
       "version_minor": 0
      },
      "text/plain": [
       "  0%|          | 0/2000 [00:00<?, ?it/s]"
      ]
     },
     "metadata": {},
     "output_type": "display_data"
    },
    {
     "data": {
      "application/vnd.jupyter.widget-view+json": {
       "model_id": "",
       "version_major": 2,
       "version_minor": 0
      },
      "text/plain": [
       "  0%|          | 0/2000 [00:00<?, ?it/s]"
      ]
     },
     "metadata": {},
     "output_type": "display_data"
    },
    {
     "data": {
      "application/vnd.jupyter.widget-view+json": {
       "model_id": "",
       "version_major": 2,
       "version_minor": 0
      },
      "text/plain": [
       "  0%|          | 0/2000 [00:00<?, ?it/s]"
      ]
     },
     "metadata": {},
     "output_type": "display_data"
    },
    {
     "data": {
      "application/vnd.jupyter.widget-view+json": {
       "model_id": "",
       "version_major": 2,
       "version_minor": 0
      },
      "text/plain": [
       "  0%|          | 0/2000 [00:00<?, ?it/s]"
      ]
     },
     "metadata": {},
     "output_type": "display_data"
    },
    {
     "data": {
      "application/vnd.jupyter.widget-view+json": {
       "model_id": "",
       "version_major": 2,
       "version_minor": 0
      },
      "text/plain": [
       "  0%|          | 0/2000 [00:00<?, ?it/s]"
      ]
     },
     "metadata": {},
     "output_type": "display_data"
    }
   ],
   "source": [
    "throughput = [(benchmark_sequence * 2**i) / measure(model, 2**i) for i in tqdm(range(10))]"
   ]
  },
  {
   "cell_type": "code",
   "execution_count": 22,
   "id": "9560acb8",
   "metadata": {},
   "outputs": [
    {
     "data": {
      "text/plain": [
       "[<matplotlib.lines.Line2D at 0x7fa1f04f56c0>]"
      ]
     },
     "execution_count": 22,
     "metadata": {},
     "output_type": "execute_result"
    },
    {
     "data": {
      "image/png": "[encoded data removed]",
      "text/plain": [
       "<Figure size 640x480 with 1 Axes>"
      ]
     },
     "metadata": {},
     "output_type": "display_data"
    }
   ],
   "source": [
    "plt.figure()\n",
    "plt.xlabel(\"Batch Size (power of 2)\")\n",
    "plt.ylabel(\"Throughput (samples/sec)\")\n",
    "plt.plot(throughput, '.r-')"
   ]
  },
  {
   "cell_type": "markdown",
   "id": "f44ddf27",
   "metadata": {},
   "source": [
    "Now let's plot that in **log-scale**:"
   ]
  },
  {
   "cell_type": "code",
   "execution_count": 23,
   "id": "296722a1",
   "metadata": {},
   "outputs": [
    {
     "data": {
      "text/plain": [
       "[<matplotlib.lines.Line2D at 0x7fa1f05ae530>]"
      ]
     },
     "execution_count": 23,
     "metadata": {},
     "output_type": "execute_result"
    },
    {
     "data": {
      "image/png": "[encoded data removed]",
      "text/plain": [
       "<Figure size 640x480 with 1 Axes>"
      ]
     },
     "metadata": {},
     "output_type": "display_data"
    }
   ],
   "source": [
    "plt.figure()\n",
    "plt.xlabel(\"Batch Size (power of 2)\")\n",
    "plt.ylabel(\"Throughput (samples/sec)\")\n",
    "plt.yscale(\"log\")\n",
    "plt.plot(throughput, '.r-')"
   ]
  },
  {
   "cell_type": "markdown",
   "id": "b7173576",
   "metadata": {},
   "source": [
    "Our results are consistent with the results given in Appendix B of the paper (Figure 4). Note that we don't expect our implementation to reproduce the same throughput values exactly, because the performance is dependent on many factors including hardware and subtle implementation details. Since the scaling follows the same trend in both our implementation and in the paper, we can conclude that we have reproduced this experiment."
   ]
  }
 ],
 "metadata": {
  "kernelspec": {
   "display_name": "Python 3 (ipykernel)",
   "language": "python",
   "name": "python3"
  },
  "language_info": {
   "codemirror_mode": {
    "name": "ipython",
    "version": 3
   },
   "file_extension": ".py",
   "mimetype": "text/x-python",
   "name": "python",
   "nbconvert_exporter": "python",
   "pygments_lexer": "ipython3",
   "version": "3.10.6"
  }
 },
 "nbformat": 4,
 "nbformat_minor": 5
}
