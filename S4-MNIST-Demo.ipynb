{
 "cells": [
  {
   "cell_type": "markdown",
   "id": "cdb101c3",
   "metadata": {},
   "source": [
    "<center><h1>S4 MNIST Demo</h1><center>"
   ]
  },
  {
   "cell_type": "code",
   "execution_count": 1,
   "id": "cdd46595",
   "metadata": {},
   "outputs": [],
   "source": [
    "%matplotlib inline\n",
    "# Built-in IPython extension to reload modules when updated.\n",
    "%load_ext autoreload\n",
    "%autoreload 2"
   ]
  },
  {
   "cell_type": "code",
   "execution_count": 2,
   "id": "9d2379e5",
   "metadata": {},
   "outputs": [],
   "source": [
    "import torch\n",
    "from torch import nn\n",
    "import matplotlib.pyplot as plt\n",
    "from torch.utils.data import DataLoader\n",
    "from torchvision import datasets, transforms\n",
    "from tqdm.auto import tqdm\n",
    "import copy\n",
    "\n",
    "# Custom modules\n",
    "from S4 import *"
   ]
  },
  {
   "cell_type": "code",
   "execution_count": 3,
   "id": "5810ff1d",
   "metadata": {},
   "outputs": [],
   "source": [
    "# Load dataset\n",
    "# Use the smaller test set to train faster\n",
    "MNIST_TEST = datasets.MNIST(root='./../datasets', train=False, download=True, transform=transforms.ToTensor())\n",
    "\n",
    "dataloader = DataLoader(MNIST_TEST, shuffle=True, batch_size=8)\n",
    "testloader = DataLoader(MNIST_TEST, shuffle=False, batch_size=1)"
   ]
  },
  {
   "cell_type": "code",
   "execution_count": 4,
   "id": "6f229954",
   "metadata": {},
   "outputs": [
    {
     "data": {
      "text/plain": [
       "device(type='cuda')"
      ]
     },
     "execution_count": 4,
     "metadata": {},
     "output_type": "execute_result"
    }
   ],
   "source": [
    "device = torch.device(\"cuda\" if torch.cuda.is_available() else \"cpu\")\n",
    "#device = torch.device(\"cpu\")\n",
    "device"
   ]
  },
  {
   "cell_type": "markdown",
   "id": "83f20a8b",
   "metadata": {},
   "source": [
    "# S4 Layer\n",
    "\n",
    "At a high-level, S4 layer can be thought of as a mapping from a 1D sequence to another 1D sequence. Some of the important properties of S4:\n",
    "- It's causal. The output at index $i$ depends on inputs from $0$ to $i-1$.\n",
    "- It can be computed using either convolution or recurrence.\n",
    "    - We use convolution during training and recurrence during sampling.\n",
    "- Although it's 1D to 1D, we stack multiple S4 Layers together to process multidimensional signals.\n",
    "    - In this case, different dimensions don't interact with each other.\n",
    "    - Linear layers compute interactions between different signal dimensions but they cannot handle interactions through time. Therefore, linear layers complement S4 layers nicely.\n",
    "- S4 doesn't provide non-linearity by itself. It needs to be combined with activation functions."
   ]
  },
  {
   "cell_type": "markdown",
   "id": "8c9555ad",
   "metadata": {},
   "source": [
    "# S4 Block\n",
    "\n",
    "Here's a simple S4 Block that encapsulates the base S4 layer with layer norm, activation and linear projection."
   ]
  },
  {
   "cell_type": "code",
   "execution_count": 5,
   "id": "0b0e14b8",
   "metadata": {},
   "outputs": [],
   "source": [
    "def Block(signal_dim: int, state_dim: int):\n",
    "    return Residual(\n",
    "        S4Base(signal_dim, state_dim, sequence_length=784),\n",
    "        #nn.Dropout(0.2),\n",
    "        nn.GELU(),\n",
    "        nn.Linear(signal_dim, signal_dim),\n",
    "        nn.LayerNorm(signal_dim),\n",
    "    )"
   ]
  },
  {
   "cell_type": "markdown",
   "id": "50ba5a0e",
   "metadata": {},
   "source": [
    "# MNIST Classification\n",
    "\n",
    "Although the most natural task for MNIST dataset is classification, it's not natural for S4 because S4 is a sequence-to-sequence model.\n",
    "\n",
    "We simply flatten the images to turn them into sequences.\n",
    "\n",
    "To use S4 as a sequence classification model, we simply take the mean of the time dimension. Using the last element in the sequence may also seem like a rational choice, but remember that S4 layer maintains a state (lossy summary of previous inputs) like an RNN. Thus, if the last output is used, the model may forget the old inputs."
   ]
  },
  {
   "cell_type": "code",
   "execution_count": 81,
   "id": "5b92b5ad",
   "metadata": {},
   "outputs": [],
   "source": [
    "torch.manual_seed(42)\n",
    "\n",
    "model = nn.Sequential(\n",
    "    nn.Linear(1, 128),\n",
    "    *[Block(128, 64) for _ in range(4)],\n",
    "    Lambda(lambda x: x.mean(dim=1)),\n",
    "    nn.Linear(128, 10),\n",
    ")\n",
    "model.to(device)\n",
    "\n",
    "optimizer = torch.optim.AdamW(model.parameters(), lr=0.001)\n",
    "criterion = torch.nn.CrossEntropyLoss()\n",
    "losses = []"
   ]
  },
  {
   "cell_type": "code",
   "execution_count": 86,
   "id": "9ef539fe",
   "metadata": {},
   "outputs": [
    {
     "data": {
      "application/vnd.jupyter.widget-view+json": {
       "model_id": "",
       "version_major": 2,
       "version_minor": 0
      },
      "text/plain": [
       "  0%|          | 0/1 [00:00<?, ?it/s]"
      ]
     },
     "metadata": {},
     "output_type": "display_data"
    },
    {
     "data": {
      "application/vnd.jupyter.widget-view+json": {
       "model_id": "",
       "version_major": 2,
       "version_minor": 0
      },
      "text/plain": [
       "  0%|          | 0/1250 [00:00<?, ?it/s]"
      ]
     },
     "metadata": {},
     "output_type": "display_data"
    },
    {
     "name": "stdout",
     "output_type": "stream",
     "text": [
      "Epoch 11 loss: 0.039997286456436326\n"
     ]
    },
    {
     "data": {
      "image/png": "[encoded data removed]",
      "text/plain": [
       "<Figure size 640x480 with 1 Axes>"
      ]
     },
     "metadata": {},
     "output_type": "display_data"
    }
   ],
   "source": [
    "model.train()\n",
    "for epoch in tqdm(range(1), leave=False):\n",
    "    train_loss = 0.0\n",
    "    for batch in tqdm(dataloader, leave=False): \n",
    "        img, y = batch\n",
    "        # Convert image to a signal with L = 784 and dimension 1\n",
    "        img = img.to(device).reshape(-1, 784, 1)\n",
    "        y = y.to(device)\n",
    "        y_hat = model(img)\n",
    "        loss = criterion(y_hat, y)\n",
    "\n",
    "        loss_val = loss.detach().cpu().item()\n",
    "        train_loss += loss_val / len(dataloader)\n",
    "\n",
    "        optimizer.zero_grad()\n",
    "        loss.backward()\n",
    "        optimizer.step()\n",
    "\n",
    "    losses.append(loss_val)\n",
    "    print(f\"Epoch {len(losses)} loss: {train_loss}\")\n",
    "\n",
    "plt.plot(losses)\n",
    "plt.show()"
   ]
  },
  {
   "cell_type": "code",
   "execution_count": 87,
   "id": "7d4aa1cf",
   "metadata": {},
   "outputs": [
    {
     "data": {
      "text/plain": [
       "0.9861"
      ]
     },
     "execution_count": 87,
     "metadata": {},
     "output_type": "execute_result"
    }
   ],
   "source": [
    "model.eval()\n",
    "total, correct = 0, 0\n",
    "for x, y in dataloader:\n",
    "    x, y = x.to(device).reshape(-1, 784, 1), y.to(device)\n",
    "    y_hat = model(x)\n",
    "    y_hat = torch.argmax(y_hat, dim=-1)\n",
    "    total += y.shape[0]\n",
    "    correct += (y_hat == y).sum().item()\n",
    "accuracy = correct / total\n",
    "accuracy"
   ]
  },
  {
   "cell_type": "markdown",
   "id": "26bb3403",
   "metadata": {},
   "source": [
    "# MNIST Generation\n",
    "\n",
    "Predict the next pixel based on the given sequence of pixels.\n",
    "\n",
    "Pixel values between 0 and 1 are given as input. The model outputs a 256 dimensional vector for each pixel. Each dimension (after applying softmax) represents the probability of an 8-bit quantized pixel value. "
   ]
  },
  {
   "cell_type": "code",
   "execution_count": 6,
   "id": "6f4655db",
   "metadata": {},
   "outputs": [
    {
     "data": {
      "text/plain": [
       "Sequential(\n",
       "  (0): Linear(in_features=1, out_features=258, bias=True)\n",
       "  (1): Residual(\n",
       "    (0): S4Base()\n",
       "    (1): GELU(approximate='none')\n",
       "    (2): Linear(in_features=258, out_features=258, bias=True)\n",
       "    (3): LayerNorm((258,), eps=1e-05, elementwise_affine=True)\n",
       "  )\n",
       "  (2): Residual(\n",
       "    (0): S4Base()\n",
       "    (1): GELU(approximate='none')\n",
       "    (2): Linear(in_features=258, out_features=258, bias=True)\n",
       "    (3): LayerNorm((258,), eps=1e-05, elementwise_affine=True)\n",
       "  )\n",
       "  (3): Residual(\n",
       "    (0): S4Base()\n",
       "    (1): GELU(approximate='none')\n",
       "    (2): Linear(in_features=258, out_features=258, bias=True)\n",
       "    (3): LayerNorm((258,), eps=1e-05, elementwise_affine=True)\n",
       "  )\n",
       "  (4): Linear(in_features=258, out_features=256, bias=True)\n",
       ")"
      ]
     },
     "execution_count": 6,
     "metadata": {},
     "output_type": "execute_result"
    }
   ],
   "source": [
    "torch.manual_seed(13)\n",
    "\n",
    "model = Sequential(\n",
    "    nn.Linear(1, 258),\n",
    "    *[Block(258, 64) for _ in range(3)],\n",
    "    nn.Linear(258, 256),\n",
    ")\n",
    "model.to(device)"
   ]
  },
  {
   "cell_type": "markdown",
   "id": "f3679560",
   "metadata": {},
   "source": [
    "## Overfitting Test\n",
    "\n",
    "Before training on the full dataset, we will make sure that the model can overfit to this example:"
   ]
  },
  {
   "cell_type": "code",
   "execution_count": 15,
   "id": "afa48cb6",
   "metadata": {},
   "outputs": [
    {
     "data": {
      "text/plain": [
       "<matplotlib.image.AxesImage at 0x7f7e5c150d90>"
      ]
     },
     "execution_count": 15,
     "metadata": {},
     "output_type": "execute_result"
    },
    {
     "data": {
      "image/png": "[encoded data removed]",
      "text/plain": [
       "<Figure size 640x480 with 1 Axes>"
      ]
     },
     "metadata": {},
     "output_type": "display_data"
    }
   ],
   "source": [
    "overfit_image = MNIST_TEST[0][0]\n",
    "plt.figure()\n",
    "plt.imshow(overfit_image.reshape(28, 28, 1))"
   ]
  },
  {
   "cell_type": "code",
   "execution_count": 16,
   "id": "84d3ae96",
   "metadata": {},
   "outputs": [],
   "source": [
    "model.train()\n",
    "optimizer = torch.optim.Adam(model.parameters(), lr=0.001)\n",
    "criterion = torch.nn.CrossEntropyLoss()\n",
    "losses = []"
   ]
  },
  {
   "cell_type": "markdown",
   "id": "07b62c9b",
   "metadata": {},
   "source": [
    "You can run the following block multiple times to train the same model without restarting:"
   ]
  },
  {
   "cell_type": "code",
   "execution_count": 26,
   "id": "7efb996d",
   "metadata": {},
   "outputs": [
    {
     "data": {
      "application/vnd.jupyter.widget-view+json": {
       "model_id": "",
       "version_major": 2,
       "version_minor": 0
      },
      "text/plain": [
       "  0%|          | 0/50 [00:00<?, ?it/s]"
      ]
     },
     "metadata": {},
     "output_type": "display_data"
    },
    {
     "data": {
      "image/png": "[encoded data removed]",
      "text/plain": [
       "<Figure size 640x480 with 1 Axes>"
      ]
     },
     "metadata": {},
     "output_type": "display_data"
    }
   ],
   "source": [
    "for epoch in tqdm(range(50), leave=False):\n",
    "    train_loss = 0.0\n",
    "    for img in [overfit_image]:\n",
    "        # Convert image to a signal with L = 784 and dimension 1\n",
    "        img = img.to(device).reshape(-1, 784, 1)\n",
    "        # Shift and pad with zero to generate input\n",
    "        x = torch.cat([torch.zeros(img.size(0), 1, 1, device=device), img[:, :-1, :]], dim=1)\n",
    "        # For each sample i, predict the next sample (i+1) from the slice between 0 to i\n",
    "        y_hat = model(x)\n",
    "        \n",
    "        y = torch.mul(img, 255.0).to(torch.int64).to(device)[:,:,0]\n",
    "        #__import__('pdb').set_trace()\n",
    "\n",
    "        #y = torch.nn.functional.one_hot(y.squeeze(-1), num_classes=256).to(torch.float32)\n",
    "\n",
    "        #print(f\"y[0]: {torch.argmax(y[0][200])}\")\n",
    "        #print(f\"y_hat[0]: {y_hat[0]}\")\n",
    "        loss = criterion(y_hat.reshape(-1, 256), y.reshape(-1))\n",
    "\n",
    "        loss_val = loss.detach().cpu().item()\n",
    "        train_loss += loss_val / len(dataloader)\n",
    "        losses.append(loss_val)\n",
    "\n",
    "        optimizer.zero_grad()\n",
    "        loss.backward()\n",
    "        optimizer.step()\n",
    "\n",
    "    #print(f\"Epoch {epoch + 1}/{num_epochs} loss: {train_loss}\")\n",
    "\n",
    "plt.plot(losses)\n",
    "plt.show()"
   ]
  },
  {
   "cell_type": "markdown",
   "id": "9505ea2a",
   "metadata": {},
   "source": [
    "During training, we used convolutional method for parallelization. But for autoregressive sample generation, we need to use the recurrent method.\n",
    "\n",
    "The following method will sample from the given model `m`. It can optionally use a priming signal to start with. When `maxp` is `True`, it will always choose the value with highest probability instead of random sampling."
   ]
  },
  {
   "cell_type": "code",
   "execution_count": 35,
   "id": "7cc679dd",
   "metadata": {},
   "outputs": [],
   "source": [
    "def generate_sample(m, priming_signal=None, maxp=False):\n",
    "    f = m.get_recurrent_runner()\n",
    "    # The input is padded with 0 at the start\n",
    "    u = f(torch.zeros(1, device=device))\n",
    "\n",
    "    # Process the priming signal if given\n",
    "    if priming_signal is not None:\n",
    "        for s in priming_signal:\n",
    "            u = f(s)\n",
    "        primed_size = priming_signal.size(0)\n",
    "    else:\n",
    "        primed_size = 0\n",
    "\n",
    "    # Generate the new part\n",
    "    Y = []\n",
    "    for _ in range(784 - primed_size):\n",
    "        if maxp:\n",
    "            p = torch.argmax(u)\n",
    "        else:\n",
    "            dist = torch.distributions.categorical.Categorical(probs=torch.nn.functional.softmax(u, dim=-1))\n",
    "            p = dist.sample()\n",
    "        p = p / 255.0\n",
    "        Y.append(p)\n",
    "        u = p.reshape(1)\n",
    "        u = f(u)\n",
    "\n",
    "    generated = torch.stack(Y).real\n",
    "    # Red: generated part\n",
    "    # Green: given part\n",
    "    if priming_signal is not None:\n",
    "        priming_signal = priming_signal.flatten()\n",
    "        red = torch.cat([torch.zeros_like(priming_signal), generated], dim=0)\n",
    "        green = torch.cat([priming_signal, torch.zeros_like(generated)], dim=0)\n",
    "    else:\n",
    "        red = generated\n",
    "        green = torch.zeros_like(red)\n",
    "    blue = torch.zeros_like(green)\n",
    "    return torch.cat([color.reshape(28, 28, 1) for color in [red, green, blue]], dim=-1)"
   ]
  },
  {
   "cell_type": "code",
   "execution_count": 40,
   "id": "7d5ce8e4",
   "metadata": {},
   "outputs": [],
   "source": [
    "def overfit_sample(start=0, maxp=False):\n",
    "    model.eval()\n",
    "    with torch.no_grad():\n",
    "        img = overfit_image\n",
    "        img = img.to(device).reshape(-1, 784, 1)\n",
    "        sample = generate_sample(model, img[0, :start, :] if start > 0 else None, maxp).cpu()\n",
    "        plt.figure(figsize=(2,2))\n",
    "        plt.imshow(sample)"
   ]
  },
  {
   "cell_type": "markdown",
   "id": "a92c6fc8",
   "metadata": {},
   "source": [
    "Let's sample some images.\n",
    "\n",
    "<b style=\"color: red;\">Red</b> parts are generated, <b style=\"color: green;\">green</b> parts are given in the priming signal."
   ]
  },
  {
   "cell_type": "code",
   "execution_count": 41,
   "id": "9424b201",
   "metadata": {
    "scrolled": false
   },
   "outputs": [
    {
     "data": {
      "image/png": "[encoded data removed]",
      "text/plain": [
       "<Figure size 200x200 with 1 Axes>"
      ]
     },
     "metadata": {},
     "output_type": "display_data"
    },
    {
     "data": {
      "image/png": "[encoded data removed]",
      "text/plain": [
       "<Figure size 200x200 with 1 Axes>"
      ]
     },
     "metadata": {},
     "output_type": "display_data"
    }
   ],
   "source": [
    "torch.manual_seed(42)\n",
    "overfit_sample(28*10)\n",
    "overfit_sample(28*15)"
   ]
  },
  {
   "cell_type": "markdown",
   "id": "706acd6d",
   "metadata": {},
   "source": [
    "Let's try to generate images from scratch by sampling without any priming."
   ]
  },
  {
   "cell_type": "code",
   "execution_count": 42,
   "id": "38033fb4",
   "metadata": {},
   "outputs": [
    {
     "data": {
      "image/png": "[encoded data removed]",
      "text/plain": [
       "<Figure size 200x200 with 1 Axes>"
      ]
     },
     "metadata": {},
     "output_type": "display_data"
    },
    {
     "data": {
      "image/png": "[encoded data removed]",
      "text/plain": [
       "<Figure size 200x200 with 1 Axes>"
      ]
     },
     "metadata": {},
     "output_type": "display_data"
    }
   ],
   "source": [
    "torch.manual_seed(7)\n",
    "overfit_sample()\n",
    "overfit_sample()"
   ]
  },
  {
   "cell_type": "markdown",
   "id": "a8d13413",
   "metadata": {},
   "source": [
    "The second sample is really bad. During sampling, we can always choose the value with highest probability in order to get the most probable generation. This way, we will see whether we were unlucky in the previous generation."
   ]
  },
  {
   "cell_type": "code",
   "execution_count": 43,
   "id": "d944d71d",
   "metadata": {
    "scrolled": false
   },
   "outputs": [
    {
     "data": {
      "image/png": "[encoded data removed]",
      "text/plain": [
       "<Figure size 200x200 with 1 Axes>"
      ]
     },
     "metadata": {},
     "output_type": "display_data"
    }
   ],
   "source": [
    "overfit_sample(0, True)"
   ]
  },
  {
   "cell_type": "markdown",
   "id": "fb53c136",
   "metadata": {},
   "source": [
    "This looks almost exactly the same as the target image. The model can successfully overfit to a single image."
   ]
  },
  {
   "cell_type": "markdown",
   "id": "1e788b92",
   "metadata": {},
   "source": [
    "## Probability Distribution\n",
    "\n",
    "We can actually compute the probability of an image."
   ]
  },
  {
   "cell_type": "code",
   "execution_count": 70,
   "id": "76ce0506",
   "metadata": {},
   "outputs": [],
   "source": [
    "def get_probability(model, image):\n",
    "    image = image.to(device).reshape(1, 784, 1)\n",
    "    # Shift and pad with zero to generate input\n",
    "    x = torch.cat([torch.zeros(1, 1, 1, device=device), img[:, :-1, :]], dim=1)\n",
    "    probs = torch.nn.functional.softmax(model(x), dim=-1)\n",
    "\n",
    "    image = image.flatten()\n",
    "    probs = probs.reshape(784, 256)\n",
    "    ps = [pixel_probs[int(pixel.item() * 255.0)] for pixel, pixel_probs in zip(image, probs)]\n",
    "\n",
    "    return torch.stack(ps).cpu().detach()"
   ]
  },
  {
   "cell_type": "code",
   "execution_count": 73,
   "id": "103267e5",
   "metadata": {},
   "outputs": [
    {
     "data": {
      "text/plain": [
       "0.10347002744674683"
      ]
     },
     "execution_count": 73,
     "metadata": {},
     "output_type": "execute_result"
    }
   ],
   "source": [
    "torch.prod(get_probability(model, overfit_image)).item()"
   ]
  },
  {
   "cell_type": "markdown",
   "id": "50671621",
   "metadata": {},
   "source": [
    "Approximately 10% probability of generating this exact image.\n",
    "\n",
    "Now, let's draw an image in which each pixel represents the probability. The image should be composed almost entirely of white pixels if it's a high probability image."
   ]
  },
  {
   "cell_type": "code",
   "execution_count": 74,
   "id": "63fd482d",
   "metadata": {},
   "outputs": [
    {
     "data": {
      "text/plain": [
       "<matplotlib.image.AxesImage at 0x7f7e0559c310>"
      ]
     },
     "execution_count": 74,
     "metadata": {},
     "output_type": "execute_result"
    },
    {
     "data": {
      "image/png": "[encoded data removed]",
      "text/plain": [
       "<Figure size 300x300 with 1 Axes>"
      ]
     },
     "metadata": {},
     "output_type": "display_data"
    }
   ],
   "source": [
    "plt.figure(figsize=(3,3))\n",
    "plt.imshow(get_probability(model, overfit_image).reshape(28, 28, 1))"
   ]
  },
  {
   "cell_type": "markdown",
   "id": "70c93b74",
   "metadata": {},
   "source": [
    "Let's return to the previous bad sample and determine its probability."
   ]
  },
  {
   "cell_type": "code",
   "execution_count": 80,
   "id": "3228ca58",
   "metadata": {},
   "outputs": [
    {
     "data": {
      "image/png": "[encoded data removed]",
      "text/plain": [
       "<Figure size 300x300 with 1 Axes>"
      ]
     },
     "metadata": {},
     "output_type": "display_data"
    }
   ],
   "source": [
    "torch.manual_seed(7)\n",
    "sample = generate_sample(model).cpu()\n",
    "sample = generate_sample(model).cpu()\n",
    "# Plot to make sure it's the same image\n",
    "plt.figure(figsize=(3,3))\n",
    "plt.imshow(sample)\n",
    "sample = sample.sum(dim=-1)"
   ]
  },
  {
   "cell_type": "code",
   "execution_count": 79,
   "id": "fe45ac6a",
   "metadata": {},
   "outputs": [
    {
     "data": {
      "text/plain": [
       "0.0"
      ]
     },
     "execution_count": 79,
     "metadata": {},
     "output_type": "execute_result"
    },
    {
     "data": {
      "image/png": "[encoded data removed]",
      "text/plain": [
       "<Figure size 300x300 with 1 Axes>"
      ]
     },
     "metadata": {},
     "output_type": "display_data"
    }
   ],
   "source": [
    "probs = get_probability(model, sample)\n",
    "plt.figure(figsize=(3,3))\n",
    "plt.imshow(probs.reshape(28, 28, 1))\n",
    "torch.prod(probs).item()"
   ]
  },
  {
   "cell_type": "markdown",
   "id": "3ec09ca5",
   "metadata": {},
   "source": [
    "The probability of this image is so low that the computed probability is 0% due to floating point precision issues. We can also see that bad parts of the generated image has low probability in the pixel probability heatmap."
   ]
  }
 ],
 "metadata": {
  "kernelspec": {
   "display_name": "Python 3 (ipykernel)",
   "language": "python",
   "name": "python3"
  },
  "language_info": {
   "codemirror_mode": {
    "name": "ipython",
    "version": 3
   },
   "file_extension": ".py",
   "mimetype": "text/x-python",
   "name": "python",
   "nbconvert_exporter": "python",
   "pygments_lexer": "ipython3",
   "version": "3.10.9"
  }
 },
 "nbformat": 4,
 "nbformat_minor": 5
}
