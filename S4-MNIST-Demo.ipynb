{
 "cells": [
  {
   "cell_type": "code",
   "execution_count": 1,
   "id": "cdd46595",
   "metadata": {},
   "outputs": [],
   "source": [
    "%matplotlib inline\n",
    "# Built-in IPython extension to reload modules when updated.\n",
    "%load_ext autoreload\n",
    "%autoreload 2"
   ]
  },
  {
   "cell_type": "code",
   "execution_count": 2,
   "id": "9d2379e5",
   "metadata": {},
   "outputs": [],
   "source": [
    "import torch\n",
    "from torch import nn\n",
    "import matplotlib.pyplot as plt\n",
    "from torch.utils.data import DataLoader\n",
    "from torchvision import datasets, transforms\n",
    "from tqdm.auto import tqdm\n",
    "import copy\n",
    "\n",
    "# Custom modules\n",
    "from S4 import *"
   ]
  },
  {
   "cell_type": "code",
   "execution_count": 3,
   "id": "5810ff1d",
   "metadata": {},
   "outputs": [],
   "source": [
    "# Load dataset\n",
    "# Use the smaller test set to train faster\n",
    "MNIST_TEST = datasets.MNIST(root='./../datasets', train=False, download=True, transform=transforms.ToTensor())\n",
    "\n",
    "dataloader = DataLoader(MNIST_TEST, shuffle=True, batch_size=8)\n",
    "testloader = DataLoader(MNIST_TEST, shuffle=False, batch_size=1)"
   ]
  },
  {
   "cell_type": "code",
   "execution_count": 4,
   "id": "6f229954",
   "metadata": {},
   "outputs": [
    {
     "data": {
      "text/plain": [
       "device(type='cuda')"
      ]
     },
     "execution_count": 4,
     "metadata": {},
     "output_type": "execute_result"
    }
   ],
   "source": [
    "device = torch.device(\"cuda\" if torch.cuda.is_available() else \"cpu\")\n",
    "#device = torch.device(\"cpu\")\n",
    "device"
   ]
  },
  {
   "cell_type": "markdown",
   "id": "8c9555ad",
   "metadata": {},
   "source": [
    "# S4 Block\n",
    "\n",
    "Here's a simple S4 Block that encapsulates the base S4 layer with layer norm, activation and linear projection."
   ]
  },
  {
   "cell_type": "code",
   "execution_count": 5,
   "id": "0b0e14b8",
   "metadata": {},
   "outputs": [],
   "source": [
    "def Block(signal_dim: int, state_dim: int):\n",
    "    return Residual(\n",
    "        S4Base(signal_dim, state_dim),\n",
    "        #nn.Dropout(0.2),\n",
    "        nn.GELU(),\n",
    "        nn.Linear(signal_dim, signal_dim),\n",
    "        nn.LayerNorm(signal_dim),\n",
    "    )"
   ]
  },
  {
   "cell_type": "markdown",
   "id": "50ba5a0e",
   "metadata": {},
   "source": [
    "# MNIST Classification"
   ]
  },
  {
   "cell_type": "code",
   "execution_count": 6,
   "id": "5b92b5ad",
   "metadata": {},
   "outputs": [],
   "source": [
    "torch.manual_seed(42)\n",
    "\n",
    "model = nn.Sequential(\n",
    "    nn.Linear(1, 128),\n",
    "    *[Block(128, 64) for _ in range(4)],\n",
    "    Lambda(lambda x: x.mean(dim=1)),\n",
    "    nn.Linear(128, 10),\n",
    ")\n",
    "model.to(device)\n",
    "\n",
    "num_epochs = 10\n",
    "\n",
    "optimizer = torch.optim.AdamW(model.parameters(), lr=0.001)\n",
    "criterion = torch.nn.CrossEntropyLoss()\n",
    "losses = []"
   ]
  },
  {
   "cell_type": "code",
   "execution_count": 8,
   "id": "9ef539fe",
   "metadata": {},
   "outputs": [
    {
     "data": {
      "application/vnd.jupyter.widget-view+json": {
       "model_id": "",
       "version_major": 2,
       "version_minor": 0
      },
      "text/plain": [
       "  0%|          | 0/10 [00:00<?, ?it/s]"
      ]
     },
     "metadata": {},
     "output_type": "display_data"
    },
    {
     "data": {
      "application/vnd.jupyter.widget-view+json": {
       "model_id": "",
       "version_major": 2,
       "version_minor": 0
      },
      "text/plain": [
       "  0%|          | 0/1250 [00:00<?, ?it/s]"
      ]
     },
     "metadata": {},
     "output_type": "display_data"
    },
    {
     "name": "stdout",
     "output_type": "stream",
     "text": [
      "Epoch 1/10 loss: 1.62\n"
     ]
    },
    {
     "data": {
      "application/vnd.jupyter.widget-view+json": {
       "model_id": "",
       "version_major": 2,
       "version_minor": 0
      },
      "text/plain": [
       "  0%|          | 0/1250 [00:00<?, ?it/s]"
      ]
     },
     "metadata": {},
     "output_type": "display_data"
    },
    {
     "name": "stdout",
     "output_type": "stream",
     "text": [
      "Epoch 2/10 loss: 0.68\n"
     ]
    },
    {
     "data": {
      "application/vnd.jupyter.widget-view+json": {
       "model_id": "",
       "version_major": 2,
       "version_minor": 0
      },
      "text/plain": [
       "  0%|          | 0/1250 [00:00<?, ?it/s]"
      ]
     },
     "metadata": {},
     "output_type": "display_data"
    },
    {
     "name": "stdout",
     "output_type": "stream",
     "text": [
      "Epoch 3/10 loss: 0.27\n"
     ]
    },
    {
     "data": {
      "application/vnd.jupyter.widget-view+json": {
       "model_id": "",
       "version_major": 2,
       "version_minor": 0
      },
      "text/plain": [
       "  0%|          | 0/1250 [00:00<?, ?it/s]"
      ]
     },
     "metadata": {},
     "output_type": "display_data"
    },
    {
     "name": "stdout",
     "output_type": "stream",
     "text": [
      "Epoch 4/10 loss: 0.16\n"
     ]
    },
    {
     "data": {
      "application/vnd.jupyter.widget-view+json": {
       "model_id": "",
       "version_major": 2,
       "version_minor": 0
      },
      "text/plain": [
       "  0%|          | 0/1250 [00:00<?, ?it/s]"
      ]
     },
     "metadata": {},
     "output_type": "display_data"
    },
    {
     "name": "stdout",
     "output_type": "stream",
     "text": [
      "Epoch 5/10 loss: 0.11\n"
     ]
    },
    {
     "data": {
      "application/vnd.jupyter.widget-view+json": {
       "model_id": "",
       "version_major": 2,
       "version_minor": 0
      },
      "text/plain": [
       "  0%|          | 0/1250 [00:00<?, ?it/s]"
      ]
     },
     "metadata": {},
     "output_type": "display_data"
    },
    {
     "name": "stdout",
     "output_type": "stream",
     "text": [
      "Epoch 6/10 loss: 0.09\n"
     ]
    },
    {
     "data": {
      "application/vnd.jupyter.widget-view+json": {
       "model_id": "",
       "version_major": 2,
       "version_minor": 0
      },
      "text/plain": [
       "  0%|          | 0/1250 [00:00<?, ?it/s]"
      ]
     },
     "metadata": {},
     "output_type": "display_data"
    },
    {
     "name": "stdout",
     "output_type": "stream",
     "text": [
      "Epoch 7/10 loss: 0.08\n"
     ]
    },
    {
     "data": {
      "application/vnd.jupyter.widget-view+json": {
       "model_id": "",
       "version_major": 2,
       "version_minor": 0
      },
      "text/plain": [
       "  0%|          | 0/1250 [00:00<?, ?it/s]"
      ]
     },
     "metadata": {},
     "output_type": "display_data"
    },
    {
     "name": "stdout",
     "output_type": "stream",
     "text": [
      "Epoch 8/10 loss: 0.05\n"
     ]
    },
    {
     "data": {
      "application/vnd.jupyter.widget-view+json": {
       "model_id": "",
       "version_major": 2,
       "version_minor": 0
      },
      "text/plain": [
       "  0%|          | 0/1250 [00:00<?, ?it/s]"
      ]
     },
     "metadata": {},
     "output_type": "display_data"
    },
    {
     "name": "stdout",
     "output_type": "stream",
     "text": [
      "Epoch 9/10 loss: 0.05\n"
     ]
    },
    {
     "data": {
      "application/vnd.jupyter.widget-view+json": {
       "model_id": "",
       "version_major": 2,
       "version_minor": 0
      },
      "text/plain": [
       "  0%|          | 0/1250 [00:00<?, ?it/s]"
      ]
     },
     "metadata": {},
     "output_type": "display_data"
    },
    {
     "name": "stdout",
     "output_type": "stream",
     "text": [
      "Epoch 10/10 loss: 0.04\n"
     ]
    },
    {
     "data": {
      "image/png": "[encoded data removed]",
      "text/plain": [
       "<Figure size 640x480 with 1 Axes>"
      ]
     },
     "metadata": {},
     "output_type": "display_data"
    }
   ],
   "source": [
    "model.train()\n",
    "for epoch in tqdm(range(num_epochs), position=0, leave=False):\n",
    "    train_loss = 0.0\n",
    "    for batch in tqdm(dataloader, leave=False): \n",
    "        img, y = batch\n",
    "        # Convert image to a signal with L = 784 and dimension 1\n",
    "        img = img.to(device).reshape(-1, 784, 1)\n",
    "        y = y.to(device)\n",
    "        y_hat = model(img)\n",
    "        loss = criterion(y_hat, y)\n",
    "\n",
    "        loss_val = loss.detach().cpu().item()\n",
    "        train_loss += loss_val / len(dataloader)\n",
    "        losses.append(loss_val)\n",
    "\n",
    "        optimizer.zero_grad()\n",
    "        loss.backward()\n",
    "        optimizer.step()\n",
    "\n",
    "    print(f\"Epoch {epoch + 1}/{num_epochs} loss: {train_loss:.2f}\")\n",
    "\n",
    "plt.plot(losses)\n",
    "plt.show()"
   ]
  },
  {
   "cell_type": "code",
   "execution_count": 9,
   "id": "7d4aa1cf",
   "metadata": {},
   "outputs": [
    {
     "data": {
      "text/plain": [
       "0.9934"
      ]
     },
     "execution_count": 9,
     "metadata": {},
     "output_type": "execute_result"
    }
   ],
   "source": [
    "model.eval()\n",
    "total, correct = 0, 0\n",
    "for x, y in dataloader:\n",
    "    x, y = x.to(device).reshape(-1, 784, 1), y.to(device)\n",
    "    y_hat = model(x)\n",
    "    y_hat = torch.argmax(y_hat, dim=-1)\n",
    "    total += y.shape[0]\n",
    "    correct += (y_hat == y).sum().item()\n",
    "accuracy = correct / total\n",
    "accuracy"
   ]
  },
  {
   "cell_type": "markdown",
   "id": "80227519",
   "metadata": {},
   "source": [
    "# MNIST Generation - Overfitting\n",
    "\n",
    "Given an empty input sequence, learn to generate a single image from MNIST."
   ]
  },
  {
   "cell_type": "code",
   "execution_count": 44,
   "id": "74f2078a",
   "metadata": {},
   "outputs": [],
   "source": [
    "torch.manual_seed(42)\n",
    "\n",
    "model = Sequential(\n",
    "    nn.Linear(1, 128),\n",
    "    *[Block(128, 64) for _ in range(3)],\n",
    "    nn.Linear(128, 1),\n",
    "    nn.Sigmoid(),\n",
    ")\n",
    "model.to(device)\n",
    "\n",
    "optimizer = torch.optim.Adam(model.parameters(), lr=0.001)\n",
    "criterion = torch.nn.MSELoss()\n",
    "#criterion = torch.nn.CrossEntropyLoss()\n",
    "losses = []\n",
    "\n",
    "img, _ = next(iter(testloader))\n",
    "# Convert image to a signal with L = 784 and dimension 1\n",
    "img = img.to(device).reshape(-1, 784, 1)\n",
    "x = img[:, :-1, :]  # First L-1 elements\n",
    "zero = torch.zeros_like(x)\n",
    "y = img[:, 1:, :]   # Last L-1 elements"
   ]
  },
  {
   "cell_type": "code",
   "execution_count": 45,
   "id": "bdf17d1e",
   "metadata": {},
   "outputs": [
    {
     "data": {
      "application/vnd.jupyter.widget-view+json": {
       "model_id": "6c44a2d0010e4a8481a528f83f2e5ad6",
       "version_major": 2,
       "version_minor": 0
      },
      "text/plain": [
       "  0%|          | 0/500 [00:00<?, ?it/s]"
      ]
     },
     "metadata": {},
     "output_type": "display_data"
    },
    {
     "data": {
      "image/png": "[encoded data removed]",
      "text/plain": [
       "<Figure size 640x480 with 1 Axes>"
      ]
     },
     "metadata": {},
     "output_type": "display_data"
    }
   ],
   "source": [
    "model.train()\n",
    "for epoch in tqdm(range(500), position=0, leave=True):\n",
    "    # For each sample i, predict the next sample (i+1) from the slice between 0 to i\n",
    "    y_hat = model(zero)\n",
    "    loss = criterion(y_hat, y)\n",
    "\n",
    "    loss_val = loss.detach().cpu().item()\n",
    "    losses.append(loss_val)\n",
    "\n",
    "    optimizer.zero_grad()\n",
    "    loss.backward()\n",
    "    optimizer.step()\n",
    "\n",
    "plt.plot(losses)\n",
    "plt.show()"
   ]
  },
  {
   "cell_type": "code",
   "execution_count": 56,
   "id": "275b7513",
   "metadata": {},
   "outputs": [
    {
     "data": {
      "image/png": "[encoded data removed]",
      "text/plain": [
       "<Figure size 640x480 with 1 Axes>"
      ]
     },
     "metadata": {},
     "output_type": "display_data"
    },
    {
     "data": {
      "image/png": "[encoded data removed]",
      "text/plain": [
       "<Figure size 640x480 with 1 Axes>"
      ]
     },
     "metadata": {},
     "output_type": "display_data"
    }
   ],
   "source": [
    "model.eval()\n",
    "\n",
    "with torch.no_grad():\n",
    "    y_hat = model(zero)\n",
    "    img = img.cpu()\n",
    "    y_hat = y_hat.cpu()\n",
    "    newimg = torch.cat([img[:,0:1,:], y_hat], dim=1)\n",
    "    plt.figure()\n",
    "    plt.imshow(img.reshape(28, 28, 1))\n",
    "    plt.figure()\n",
    "    plt.imshow(newimg.reshape(28, 28, 1))"
   ]
  },
  {
   "cell_type": "code",
   "execution_count": 58,
   "id": "4fabe41a",
   "metadata": {},
   "outputs": [
    {
     "data": {
      "image/png": "[encoded data removed]",
      "text/plain": [
       "<Figure size 640x480 with 1 Axes>"
      ]
     },
     "metadata": {},
     "output_type": "display_data"
    }
   ],
   "source": [
    "model.eval()\n",
    "\n",
    "with torch.no_grad():\n",
    "    start = 783\n",
    "    #sample = model.autoregressive_sample(784-start, zero[0, :start, :].to(device)).cpu()\n",
    "    f = model.get_recurrent_runner(783)\n",
    "\n",
    "    Y = []\n",
    "    for u in zero[0]:\n",
    "        y = f(u)\n",
    "        Y.append(y)\n",
    "    \n",
    "    sample = torch.stack([Y[0]]+Y).real\n",
    "\n",
    "    plt.figure()\n",
    "    plt.imshow(sample.cpu().reshape(28, 28, 1))"
   ]
  }
 ],
 "metadata": {
  "kernelspec": {
   "display_name": "Python 3 (ipykernel)",
   "language": "python",
   "name": "python3"
  },
  "language_info": {
   "codemirror_mode": {
    "name": "ipython",
    "version": 3
   },
   "file_extension": ".py",
   "mimetype": "text/x-python",
   "name": "python",
   "nbconvert_exporter": "python",
   "pygments_lexer": "ipython3",
   "version": "3.10.9"
  }
 },
 "nbformat": 4,
 "nbformat_minor": 5
}
